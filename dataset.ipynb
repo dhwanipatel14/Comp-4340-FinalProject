{
  "nbformat": 4,
  "nbformat_minor": 0,
  "metadata": {
    "colab": {
      "provenance": [],
      "authorship_tag": "ABX9TyP0U5Y7kTeywTY/OcqmJ0hj",
      "include_colab_link": true
    },
    "kernelspec": {
      "name": "python3",
      "display_name": "Python 3"
    },
    "language_info": {
      "name": "python"
    }
  },
  "cells": [
    {
      "cell_type": "markdown",
      "metadata": {
        "id": "view-in-github",
        "colab_type": "text"
      },
      "source": [
        "<a href=\"https://colab.research.google.com/github/dhwanipatel14/Comp-4740-FinalProject/blob/master/dataset.ipynb\" target=\"_parent\"><img src=\"https://colab.research.google.com/assets/colab-badge.svg\" alt=\"Open In Colab\"/></a>"
      ]
    },
    {
      "cell_type": "code",
      "execution_count": 12,
      "metadata": {
        "id": "kBknesZ49G4n"
      },
      "outputs": [],
      "source": [
        "import tensorflow as tf\n",
        "import tensorflow.keras as keras\n",
        "import numpy as np\n",
        "import matplotlib.pyplot as plt\n",
        "import pandas as pd\n",
        "import imageio\n",
        "import os\n",
        "import sklearn\n",
        "import cv2\n",
        "import zipfile\n",
        "\n",
        "with zipfile.ZipFile(\"/content/train.zip\",\"r\") as z:\n",
        "    z.extractall(\".\")\n",
        "with zipfile.ZipFile(\"/content/test1.zip\",\"r\") as z:\n",
        "    z.extractall(\".\")"
      ]
    },
    {
      "cell_type": "markdown",
      "source": [
        "# Dog vs Cat dataset"
      ],
      "metadata": {
        "id": "_MX6KubGC7Rk"
      }
    },
    {
      "cell_type": "code",
      "source": [
        "train_dataset = \"/content/train\"\n",
        "files = os.listdir(train_dataset)"
      ],
      "metadata": {
        "id": "9kR-QKKxEZKb"
      },
      "execution_count": 14,
      "outputs": []
    },
    {
      "cell_type": "code",
      "source": [
        "# Training Dataset\n",
        "x_train = []\n",
        "y_train = []\n",
        "\n",
        "# Iterate through files in training dataset\n",
        "for f in files:\n",
        "  # Get label/animal from filename - ex. cat.0.jpg, label is before .\n",
        "  label = f.split(\".\")[0]\n",
        "  filepath = train_dataset + \"/\" + f                  # image filepath\n",
        "  data = imageio.imread(filepath, as_gray = True)     # read the specified image (in greyscale)\n",
        "  data_arr = cv2.resize(data, dsize = (80, 80))       # resize the image to 90x90\n",
        "  # add image data and label to respective arrays\n",
        "  x_train.append(data_arr)\n",
        "  y_train.append(label)\n",
        "\n",
        "print(len(x_train))\n",
        "print(len(y_train))"
      ],
      "metadata": {
        "colab": {
          "base_uri": "https://localhost:8080/"
        },
        "id": "bHxSuW25HNIS",
        "outputId": "a7e39cda-1683-4ef2-b88a-dcc4618a76d8"
      },
      "execution_count": 19,
      "outputs": [
        {
          "output_type": "stream",
          "name": "stdout",
          "text": [
            "25000\n",
            "25000\n"
          ]
        }
      ]
    },
    {
      "cell_type": "code",
      "source": [
        "X_train = tf.keras.utils.normalize(x_train, axis=1) \n",
        "\n",
        "# reshape the data as keras needs 4D and we have 3D datasets\n",
        "X_train = np.expand_dims(X_train, axis=-1)\n",
        "\n",
        "print(X_train.shape)"
      ],
      "metadata": {
        "colab": {
          "base_uri": "https://localhost:8080/"
        },
        "id": "aTg1-NqtIQUy",
        "outputId": "b3d16f3c-b8d4-4260-f5a7-f4e0cd527831"
      },
      "execution_count": 17,
      "outputs": [
        {
          "output_type": "stream",
          "name": "stdout",
          "text": [
            "(25000, 80, 80, 1)\n"
          ]
        }
      ]
    },
    {
      "cell_type": "code",
      "source": [
        "from keras.utils import np_utils\n",
        "from sklearn.preprocessing import LabelEncoder\n",
        "\n",
        "lb = LabelEncoder()\n",
        "Y_train = lb.fit_transform(y_train)\n",
        "Y_train"
      ],
      "metadata": {
        "colab": {
          "base_uri": "https://localhost:8080/"
        },
        "id": "xMYGAK01IzUc",
        "outputId": "847d4542-c362-418c-c415-76841db10b20"
      },
      "execution_count": 20,
      "outputs": [
        {
          "output_type": "execute_result",
          "data": {
            "text/plain": [
              "array([0, 1, 1, ..., 0, 1, 1])"
            ]
          },
          "metadata": {},
          "execution_count": 20
        }
      ]
    }
  ]
}