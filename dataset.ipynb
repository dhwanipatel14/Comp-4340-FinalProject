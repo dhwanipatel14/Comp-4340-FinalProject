{
  "cells": [
    {
      "cell_type": "markdown",
      "metadata": {
        "id": "view-in-github",
        "colab_type": "text"
      },
      "source": [
        "<a href=\"https://colab.research.google.com/github/dhwanipatel14/Comp-4340-FinalProject/blob/master/dataset.ipynb\" target=\"_parent\"><img src=\"https://colab.research.google.com/assets/colab-badge.svg\" alt=\"Open In Colab\"/></a>"
      ]
    },
    {
      "cell_type": "code",
      "execution_count": 8,
      "metadata": {
        "id": "kBknesZ49G4n"
      },
      "outputs": [],
      "source": [
        "import tensorflow as tf\n",
        "import tensorflow.keras as keras\n",
        "import numpy as np\n",
        "import matplotlib.pyplot as plt\n",
        "import pandas as pd\n",
        "import imageio\n",
        "import os\n",
        "import sklearn\n",
        "import cv2\n",
        "import zipfile\n",
        "\n",
        "with zipfile.ZipFile(\"/content/train.zip\",\"r\") as z:\n",
        "    z.extractall(\".\")\n",
        "with zipfile.ZipFile(\"/content/test1.zip\",\"r\") as z:\n",
        "    z.extractall(\".\")"
      ]
    },
    {
      "cell_type": "markdown",
      "metadata": {
        "id": "_MX6KubGC7Rk"
      },
      "source": [
        "# Dog vs Cat dataset"
      ]
    },
    {
      "cell_type": "code",
      "execution_count": 9,
      "metadata": {
        "id": "9kR-QKKxEZKb"
      },
      "outputs": [],
      "source": [
        "train_dataset = \"/content/train\"\n",
        "files = os.listdir(train_dataset)"
      ]
    },
    {
      "cell_type": "code",
      "execution_count": 10,
      "metadata": {
        "colab": {
          "base_uri": "https://localhost:8080/"
        },
        "id": "bHxSuW25HNIS",
        "outputId": "2d4493fa-a528-40d0-b2df-8123653acc34"
      },
      "outputs": [
        {
          "output_type": "stream",
          "name": "stdout",
          "text": [
            "25000\n",
            "25000\n"
          ]
        }
      ],
      "source": [
        "# Training Dataset\n",
        "x_train = []\n",
        "y_train = []\n",
        "\n",
        "# Iterate through files in training dataset\n",
        "for f in files:\n",
        "  # Get label/animal from filename - ex. cat.0.jpg, label is before .\n",
        "  label = f.split(\".\")[0]\n",
        "  filepath = train_dataset + \"/\" + f                  # image filepath\n",
        "  data = imageio.imread(filepath, as_gray = True)     # read the specified image (in greyscale)\n",
        "  data_arr = cv2.resize(data, dsize = (80, 80))       # resize the image to 90x90\n",
        "  # add image data and label to respective arrays\n",
        "  x_train.append(data_arr)\n",
        "  y_train.append(label)\n",
        "\n",
        "print(len(x_train))\n",
        "print(len(y_train))"
      ]
    },
    {
      "cell_type": "code",
      "execution_count": 11,
      "metadata": {
        "colab": {
          "base_uri": "https://localhost:8080/"
        },
        "id": "aTg1-NqtIQUy",
        "outputId": "9b4d817c-8a40-4a6c-d62b-dea6f2868397"
      },
      "outputs": [
        {
          "output_type": "stream",
          "name": "stdout",
          "text": [
            "(25000, 80, 80, 1)\n"
          ]
        }
      ],
      "source": [
        "X_train = tf.keras.utils.normalize(x_train, axis=1) \n",
        "\n",
        "# reshape the data as keras needs 4D and we have 3D datasets\n",
        "X_train = np.expand_dims(X_train, axis=-1)\n",
        "\n",
        "print(X_train.shape)"
      ]
    },
    {
      "cell_type": "code",
      "execution_count": 12,
      "metadata": {
        "colab": {
          "base_uri": "https://localhost:8080/"
        },
        "id": "xMYGAK01IzUc",
        "outputId": "dcb191ae-938e-49af-f0df-2435d6885b76"
      },
      "outputs": [
        {
          "output_type": "execute_result",
          "data": {
            "text/plain": [
              "array([0, 1, 1, ..., 0, 1, 1])"
            ]
          },
          "metadata": {},
          "execution_count": 12
        }
      ],
      "source": [
        "from keras.utils import np_utils\n",
        "from sklearn.preprocessing import LabelEncoder\n",
        "\n",
        "lb = LabelEncoder()\n",
        "Y_train = lb.fit_transform(y_train)\n",
        "Y_train"
      ]
    },
    {
      "cell_type": "code",
      "execution_count": null,
      "metadata": {
        "colab": {
          "base_uri": "https://localhost:8080/"
        },
        "id": "OvN7jWBXKYcI",
        "outputId": "d5dbd311-910f-4ab7-bd51-7cbb90f365f9"
      },
      "outputs": [
        {
          "output_type": "stream",
          "name": "stdout",
          "text": [
            "Model: \"sequential_2\"\n",
            "_________________________________________________________________\n",
            " Layer (type)                Output Shape              Param #   \n",
            "=================================================================\n",
            " conv2d_4 (Conv2D)           (None, 78, 78, 128)       1280      \n",
            "                                                                 \n",
            " max_pooling2d_4 (MaxPooling  (None, 39, 39, 128)      0         \n",
            " 2D)                                                             \n",
            "                                                                 \n",
            " conv2d_5 (Conv2D)           (None, 37, 37, 256)       295168    \n",
            "                                                                 \n",
            " max_pooling2d_5 (MaxPooling  (None, 18, 18, 256)      0         \n",
            " 2D)                                                             \n",
            "                                                                 \n",
            " flatten_2 (Flatten)         (None, 82944)             0         \n",
            "                                                                 \n",
            " dense_4 (Dense)             (None, 128)               10616960  \n",
            "                                                                 \n",
            " dense_5 (Dense)             (None, 1)                 129       \n",
            "                                                                 \n",
            "=================================================================\n",
            "Total params: 10,913,537\n",
            "Trainable params: 10,913,537\n",
            "Non-trainable params: 0\n",
            "_________________________________________________________________\n",
            "Epoch 1/3\n",
            "625/625 [==============================] - 1224s 2s/step - loss: 0.6800 - accuracy: 0.5577 - val_loss: 0.6550 - val_accuracy: 0.6152\n",
            "Epoch 2/3\n",
            "625/625 [==============================] - 1223s 2s/step - loss: 0.6338 - accuracy: 0.6398 - val_loss: 0.6121 - val_accuracy: 0.6682\n",
            "Epoch 3/3\n",
            "160/625 [======>.......................] - ETA: 14:03 - loss: 0.6063 - accuracy: 0.6723"
          ]
        }
      ],
      "source": [
        "import tensorflow.keras as keras\n",
        "\n",
        "# build the model\n",
        "model = keras.Sequential()\n",
        "\n",
        "# hidden layers\n",
        "model.add(keras.layers.Conv2D(128, 3, input_shape=(80, 80, 1), activation='relu'))\n",
        "model.add(keras.layers.MaxPooling2D((2,2)))\n",
        "tf.keras.layers.Dropout(0.30)\n",
        "\n",
        "model.add(keras.layers.Conv2D(256, 3, activation='relu'))\n",
        "model.add(keras.layers.MaxPooling2D((2,2)))\n",
        "tf.keras.layers.Dropout(0.40)\n",
        "\n",
        "model.add(keras.layers.Flatten())\n",
        "\n",
        "model.add(keras.layers.Dense(128, activation='relu'))\n",
        "model.add(keras.layers.Dense(1, activation='sigmoid'))\n",
        "\n",
        "model.summary()\n",
        "\n",
        "#compiling model\n",
        "model.compile(optimizer='adam', loss='binary_crossentropy', metrics=['accuracy'])\n",
        "\n",
        "#fitting model\n",
        "modelHistory =  model.fit(X_train, Y_train, epochs= 3, validation_split=0.2, batch_size=32)\n"
      ]
    },
    {
      "cell_type": "code",
      "execution_count": 16,
      "metadata": {
        "colab": {
          "base_uri": "https://localhost:8080/"
        },
        "id": "1z4y8JTovaEu",
        "outputId": "694b53e1-9d4c-4a38-ba43-8e204024f9a0"
      },
      "outputs": [
        {
          "output_type": "stream",
          "name": "stdout",
          "text": [
            "Successfully saved!\n"
          ]
        }
      ],
      "source": [
        "model.save('model.h5')\n",
        "json_model = model.to_json()\n",
        "with open(\"model.json\", \"w\") as json_file:\n",
        "    json_file.write(json_model)\n",
        "\n",
        "print(\"Successfully saved!\")"
      ]
    },
    {
      "cell_type": "code",
      "execution_count": 17,
      "metadata": {
        "colab": {
          "base_uri": "https://localhost:8080/",
          "height": 573
        },
        "id": "s5YsLhXCvnH_",
        "outputId": "b9264bb5-2961-460f-a69e-e17554a93bb0"
      },
      "outputs": [
        {
          "output_type": "display_data",
          "data": {
            "text/plain": [
              "<Figure size 432x288 with 1 Axes>"
            ],
            "image/png": "[encoded data removed]"
          },
          "metadata": {
            "needs_background": "light"
          }
        },
        {
          "output_type": "display_data",
          "data": {
            "text/plain": [
              "<Figure size 432x288 with 1 Axes>"
            ],
            "image/png": "[encoded data removed]"
          },
          "metadata": {
            "needs_background": "light"
          }
        }
      ],
      "source": [
        "# Display model stats\n",
        "\n",
        "# Model Accuracy\n",
        "plt.title('CNN Accuracy')\n",
        "plt.ylabel('Accuracy')\n",
        "plt.xlabel('Epoch')\n",
        "\n",
        "plt.legend(['train', 'test'], loc='upper left')\n",
        "plt.show()\n",
        "\n",
        "# Model Loss\n",
        "plt.title('CNN Loss')\n",
        "plt.ylabel('Loss')\n",
        "plt.xlabel('Epoch')\n",
        "\n",
        "plt.legend(['train', 'test'], loc='upper left')\n",
        "plt.show()\n"
      ]
    },
    {
      "cell_type": "code",
      "source": [
        "test_data = []\n",
        "test_data_image = []\n",
        "test_dataset = \"/content/test1\"\n",
        "files = os.listdir(test_dataset)\n",
        "\n",
        "for f in files:\n",
        "  id = f.split(\".\")[0]\n",
        "  filepath = test_dataset + \"/\" + f\n",
        "  data = imageio.imread(filepath, as_gray = True)     # read the specified image (in greyscale)\n",
        "  data_arr = cv2.resize(data, dsize = (80, 80))       # resize the image to 90x90\n",
        "  test_data_image.append(data_arr)"
      ],
      "metadata": {
        "id": "R3NMkgSlYhPM"
      },
      "execution_count": 18,
      "outputs": []
    },
    {
      "cell_type": "code",
      "source": [
        "test_data = tf.keras.utils.normalize(test_data_image, axis=1) \n",
        "\n",
        "# reshaphing from 3D to 4D\n",
        "test_data = np.expand_dims(test_data, axis=-1)\n",
        "\n",
        "print(test_data.shape)\n",
        "labels = list(lb.classes_)\n",
        "labels"
      ],
      "metadata": {
        "colab": {
          "base_uri": "https://localhost:8080/"
        },
        "id": "I9o9F4BXY64d",
        "outputId": "3e81fa87-2afd-4011-ad22-8398f4a68f8b"
      },
      "execution_count": 19,
      "outputs": [
        {
          "output_type": "stream",
          "name": "stdout",
          "text": [
            "(12500, 80, 80, 1)\n"
          ]
        },
        {
          "output_type": "execute_result",
          "data": {
            "text/plain": [
              "['cat', 'dog']"
            ]
          },
          "metadata": {},
          "execution_count": 19
        }
      ]
    },
    {
      "cell_type": "code",
      "source": [
        "predictions = model.predict(test_data)\n",
        "\n",
        "classes = []\n",
        "for p in predictions:\n",
        "  classes.append(round(p[0]))"
      ],
      "metadata": {
        "colab": {
          "base_uri": "https://localhost:8080/"
        },
        "id": "vsJ6Yb8uZGKY",
        "outputId": "f522f990-4e52-4dd3-8670-e51050e571f1"
      },
      "execution_count": 20,
      "outputs": [
        {
          "output_type": "stream",
          "name": "stdout",
          "text": [
            "391/391 [==============================] - 215s 549ms/step\n"
          ]
        }
      ]
    },
    {
      "cell_type": "code",
      "source": [
        "import random\n",
        "import matplotlib.pyplot as plt\n",
        "\n",
        "size = len(test_data_image)\n",
        "\n",
        "image = random.randint(0, size)\n",
        "plt.imshow(test_data_image[image], cmap=\"gray\")\n",
        "plt.show()\n",
        "\n",
        "model_prediction = int(classes[image])\n",
        "\n",
        "print(\"Model prediction - class:\", model_prediction, \"which is a\", labels[model_prediction])"
      ],
      "metadata": {
        "colab": {
          "base_uri": "https://localhost:8080/",
          "height": 285
        },
        "id": "MZAK76-t8wPJ",
        "outputId": "c4f35ce3-e832-460e-b402-bbec0cfc2220"
      },
      "execution_count": 24,
      "outputs": [
        {
          "output_type": "display_data",
          "data": {
            "text/plain": [
              "<Figure size 432x288 with 1 Axes>"
            ],
            "image/png": "[encoded data removed]"
          },
          "metadata": {
            "needs_background": "light"
          }
        },
        {
          "output_type": "stream",
          "name": "stdout",
          "text": [
            "Model prediction - class: 0 which is a cat\n"
          ]
        }
      ]
    }
  ],
  "metadata": {
    "colab": {
      "provenance": [],
      "authorship_tag": "ABX9TyOJc8vVKoG9++h2OjtySeQz",
      "include_colab_link": true
    },
    "kernelspec": {
      "display_name": "Python 3",
      "name": "python3"
    },
    "language_info": {
      "name": "python"
    }
  },
  "nbformat": 4,
  "nbformat_minor": 0
}